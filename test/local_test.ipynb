{
 "cells": [
  {
   "cell_type": "code",
   "execution_count": 1,
   "metadata": {},
   "outputs": [],
   "source": [
    "using Revise\n",
    "using LinearAlgebra\n",
    "using SparseArrays\n",
    "using Pkg\n",
    "using DelayDiffEq \n",
    "using Plots\n",
    "using BenchmarkTools\n",
    "using LaTeXStrings"
   ]
  },
  {
   "cell_type": "code",
   "execution_count": 2,
   "metadata": {},
   "outputs": [
    {
     "name": "stderr",
     "output_type": "stream",
     "text": [
      "┌ Info: Precompiling OpenQuantumSystems [90e503ea-487f-4e8e-81fe-8dcc9db25ac5]\n",
      "└ @ Base loading.jl:1342\n",
      "WARNING: Method definition QME_sI_ansatz_const(T<:(QuantumOpticsBase.Operator{B<:QuantumOpticsBase.Basis, B<:QuantumOpticsBase.Basis, T} where T), Array{T, N} where N where T, OpenQuantumSystems.Aggregate) where {B<:QuantumOpticsBase.Basis, T<:(QuantumOpticsBase.Operator{B<:QuantumOpticsBase.Basis, B<:QuantumOpticsBase.Basis, T} where T)} in module OpenQuantumSystems at c:\\Users\\daniel.herman\\Documents\\Mgr\\OpenQuantumSystems\\OpenQuantumSystems.jl\\src\\master_ansatz.jl:114 overwritten at c:\\Users\\daniel.herman\\Documents\\Mgr\\OpenQuantumSystems\\OpenQuantumSystems.jl\\src\\master_iterative.jl:74.\n",
      "  ** incremental compilation may be fatally broken for this module **\n",
      "\n",
      "WARNING: Method definition QME_sI_ansatz_const##kw(Any, typeof(OpenQuantumSystems.QME_sI_ansatz_const), T<:(QuantumOpticsBase.Operator{B<:QuantumOpticsBase.Basis, B<:QuantumOpticsBase.Basis, T} where T), Array{T, N} where N where T, OpenQuantumSystems.Aggregate) where {B<:QuantumOpticsBase.Basis, T<:(QuantumOpticsBase.Operator{B<:QuantumOpticsBase.Basis, B<:QuantumOpticsBase.Basis, T} where T)} in module OpenQuantumSystems at c:\\Users\\daniel.herman\\Documents\\Mgr\\OpenQuantumSystems\\OpenQuantumSystems.jl\\src\\master_ansatz.jl:114 overwritten at c:\\Users\\daniel.herman\\Documents\\Mgr\\OpenQuantumSystems\\OpenQuantumSystems.jl\\src\\master_iterative.jl:74.\n",
      "  ** incremental compilation may be fatally broken for this module **\n",
      "\n",
      "WARNING: Method definition dQME_sI_ansatz_const(AbstractFloat, T<:(QuantumOpticsBase.Operator{B<:QuantumOpticsBase.Basis, B<:QuantumOpticsBase.Basis, T} where T), T<:(QuantumOpticsBase.Operator{B<:QuantumOpticsBase.Basis, B<:QuantumOpticsBase.Basis, T} where T), Any, Array{T, N} where N where T, Array{T, N} where N where T, Any, AbstractFloat, AbstractFloat) where {B<:QuantumOpticsBase.Basis, T<:(QuantumOpticsBase.Operator{B<:QuantumOpticsBase.Basis, B<:QuantumOpticsBase.Basis, T} where T)} in module OpenQuantumSystems at c:\\Users\\daniel.herman\\Documents\\Mgr\\OpenQuantumSystems\\OpenQuantumSystems.jl\\src\\master_ansatz.jl:164 overwritten at c:\\Users\\daniel.herman\\Documents\\Mgr\\OpenQuantumSystems\\OpenQuantumSystems.jl\\src\\master_iterative.jl:124.\n",
      "  ** incremental compilation may be fatally broken for this module **\n",
      "\n",
      "WARNING: Method definition kernel_sI_ansatz_const(Any, Any, Any, Any, Any, Any, Any) in module OpenQuantumSystems at c:\\Users\\daniel.herman\\Documents\\Mgr\\OpenQuantumSystems\\OpenQuantumSystems.jl\\src\\master_ansatz.jl:193 overwritten at c:\\Users\\daniel.herman\\Documents\\Mgr\\OpenQuantumSystems\\OpenQuantumSystems.jl\\src\\master_iterative.jl:153.\n",
      "  ** incremental compilation may be fatally broken for this module **\n",
      "\n"
     ]
    }
   ],
   "source": [
    "using OpenQuantumSystems"
   ]
  },
  {
   "cell_type": "code",
   "execution_count": 8,
   "metadata": {},
   "outputs": [
    {
     "name": "stdout",
     "output_type": "stream",
     "text": [
      "\u001b[37m\u001b[1mTest Summary: | \u001b[22m\u001b[39m\u001b[32m\u001b[1mPass  \u001b[22m\u001b[39m\u001b[36m\u001b[1mTotal\u001b[22m\u001b[39m\n",
      "rate_constant | \u001b[32m   3  \u001b[39m\u001b[36m    3\u001b[39m\n"
     ]
    },
    {
     "data": {
      "text/plain": [
       "Test.DefaultTestSet(\"rate_constant\", Any[], 3, false, false)"
      ]
     },
     "execution_count": 8,
     "metadata": {},
     "output_type": "execute_result"
    }
   ],
   "source": [
    "include(\"test_master_iterative.jl\")"
   ]
  },
  {
   "cell_type": "code",
   "execution_count": null,
   "metadata": {},
   "outputs": [],
   "source": [
    "names = [\n",
    "    \"test_operators_dense.jl\",\n",
    "    \"test_superoperators.jl\",\n",
    "    \"test_metrics.jl\",\n",
    "    \"test_molecules.jl\",\n",
    "    \"test_aggregateCore.jl\",\n",
    "    \"test_aggregateTools.jl\",\n",
    "    \"test_aggregateOperators.jl\",\n",
    "    \"test_aggregate.jl\",\n",
    "    \"test_evolution.jl\",\n",
    "    \"test_schroedinger.jl\",\n",
    "    \"test_liouville.jl\",\n",
    "    \"test_interaction_picture.jl\",\n",
    "    \"test_master_exact.jl\",\n",
    "    \"test_trace.jl\",\n",
    "    \"test_initial_state.jl\",\n",
    "    \"test_memory_kernel.jl\",\n",
    "    \"test_rate_constant.jl\",\n",
    "    \"test_master_ansatz.jl\",\n",
    "    \"test_scoring.jl\"\n",
    "]\n",
    "\n",
    "for name in names\n",
    "    include(name)\n",
    "end"
   ]
  }
 ],
 "metadata": {
  "kernelspec": {
   "display_name": "Julia 1.6.3",
   "language": "julia",
   "name": "julia-1.6"
  },
  "language_info": {
   "file_extension": ".jl",
   "mimetype": "application/julia",
   "name": "julia",
   "version": "1.6.3"
  },
  "orig_nbformat": 4
 },
 "nbformat": 4,
 "nbformat_minor": 2
}
