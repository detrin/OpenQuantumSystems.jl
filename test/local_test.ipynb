{
 "cells": [
  {
   "cell_type": "code",
   "execution_count": 12,
   "metadata": {},
   "outputs": [],
   "source": [
    "using Revise\n",
    "using LinearAlgebra\n",
    "using SparseArrays\n",
    "using Pkg\n",
    "using DelayDiffEq \n",
    "using Plots\n",
    "using BenchmarkTools\n",
    "using LaTeXStrings"
   ]
  },
  {
   "cell_type": "code",
   "execution_count": 13,
   "metadata": {},
   "outputs": [],
   "source": [
    "using OpenQuantumSystems"
   ]
  },
  {
   "cell_type": "code",
   "execution_count": 24,
   "metadata": {},
   "outputs": [
    {
     "name": "stdout",
     "output_type": "stream",
     "text": [
      "\u001b[37m\u001b[1mTest Summary: | \u001b[22m\u001b[39m\u001b[32m\u001b[1mPass  \u001b[22m\u001b[39m\u001b[36m\u001b[1mTotal\u001b[22m\u001b[39m\n",
      "rate_constant | \u001b[32m   7  \u001b[39m\u001b[36m    7\u001b[39m\n"
     ]
    },
    {
     "data": {
      "text/plain": [
       "Test.DefaultTestSet(\"rate_constant\", Any[], 7, false, false)"
      ]
     },
     "execution_count": 24,
     "metadata": {},
     "output_type": "execute_result"
    }
   ],
   "source": [
    "include(\"test_master_iterative.jl\")"
   ]
  },
  {
   "cell_type": "code",
   "execution_count": 18,
   "metadata": {},
   "outputs": [
    {
     "name": "stdout",
     "output_type": "stream",
     "text": [
      "\u001b[37m\u001b[1mTest Summary:   | \u001b[22m\u001b[39m\u001b[32m\u001b[1mPass  \u001b[22m\u001b[39m\u001b[36m\u001b[1mTotal\u001b[22m\u001b[39m\n",
      "operators dense | \u001b[32m   6  \u001b[39m\u001b[36m    6\u001b[39m\n",
      "\u001b[37m\u001b[1mTest Summary:  | \u001b[22m\u001b[39m\u001b[32m\u001b[1mPass  \u001b[22m\u001b[39m\u001b[36m\u001b[1mTotal\u001b[22m\u001b[39m\n",
      "superoperators | \u001b[32m   2  \u001b[39m\u001b[36m    2\u001b[39m\n",
      "\u001b[37m\u001b[1mTest Summary: | \u001b[22m\u001b[39m\u001b[32m\u001b[1mPass  \u001b[22m\u001b[39m\u001b[36m\u001b[1mTotal\u001b[22m\u001b[39m\n",
      "metrics       | \u001b[32m  19  \u001b[39m\u001b[36m   19\u001b[39m\n",
      "\u001b[37m\u001b[1mTest Summary: | \u001b[22m\u001b[39m\u001b[32m\u001b[1mPass  \u001b[22m\u001b[39m\u001b[36m\u001b[1mTotal\u001b[22m\u001b[39m\n",
      "molecules     | \u001b[32m  20  \u001b[39m\u001b[36m   20\u001b[39m\n",
      "\u001b[37m\u001b[1mTest Summary: | \u001b[22m\u001b[39m\u001b[32m\u001b[1mPass  \u001b[22m\u001b[39m\u001b[36m\u001b[1mTotal\u001b[22m\u001b[39m\n",
      "aggregateCore | \u001b[32m  15  \u001b[39m\u001b[36m   15\u001b[39m\n",
      "\u001b[37m\u001b[1mTest Summary:  | \u001b[22m\u001b[39m\u001b[32m\u001b[1mPass  \u001b[22m\u001b[39m\u001b[36m\u001b[1mTotal\u001b[22m\u001b[39m\n",
      "aggregateTools | \u001b[32m  13  \u001b[39m\u001b[36m   13\u001b[39m\n",
      "\u001b[37m\u001b[1mTest Summary:      | \u001b[22m\u001b[39m\u001b[32m\u001b[1mPass  \u001b[22m\u001b[39m\u001b[36m\u001b[1mTotal\u001b[22m\u001b[39m\n",
      "aggregateOperators | \u001b[32m  19  \u001b[39m\u001b[36m   19\u001b[39m\n",
      "\u001b[37m\u001b[1mTest Summary: | \u001b[22m\u001b[39m\u001b[32m\u001b[1mPass  \u001b[22m\u001b[39m\u001b[36m\u001b[1mTotal\u001b[22m\u001b[39m\n",
      "aggregate     | \u001b[32m   7  \u001b[39m\u001b[36m    7\u001b[39m\n",
      "\u001b[37m\u001b[1mTest Summary: | \u001b[22m\u001b[39m\u001b[32m\u001b[1mPass  \u001b[22m\u001b[39m\u001b[36m\u001b[1mTotal\u001b[22m\u001b[39m\n",
      "evolution     | \u001b[32m 104  \u001b[39m\u001b[36m  104\u001b[39m\n",
      "\u001b[37m\u001b[1mTest Summary: | \u001b[22m\u001b[39m\u001b[32m\u001b[1mPass  \u001b[22m\u001b[39m\u001b[36m\u001b[1mTotal\u001b[22m\u001b[39m\n",
      "schroedinger  | \u001b[32m  25  \u001b[39m\u001b[36m   25\u001b[39m\n",
      "\u001b[37m\u001b[1mTest Summary: | \u001b[22m\u001b[39m\u001b[32m\u001b[1mPass  \u001b[22m\u001b[39m\u001b[36m\u001b[1mTotal\u001b[22m\u001b[39m\n",
      "liouville     | \u001b[32m  44  \u001b[39m\u001b[36m   44\u001b[39m\n",
      "\u001b[37m\u001b[1mTest Summary:       | \u001b[22m\u001b[39m\u001b[32m\u001b[1mPass  \u001b[22m\u001b[39m\u001b[36m\u001b[1mTotal\u001b[22m\u001b[39m\n",
      "interaction picture | \u001b[32m  12  \u001b[39m\u001b[36m   12\u001b[39m\n",
      "\u001b[37m\u001b[1mTest Summary: |\u001b[22m\u001b[39m\n",
      "master        | \u001b[36mNo tests\u001b[39m\n",
      "\u001b[37m\u001b[1mTest Summary: | \u001b[22m\u001b[39m\u001b[32m\u001b[1mPass  \u001b[22m\u001b[39m\u001b[36m\u001b[1mTotal\u001b[22m\u001b[39m\n",
      "trace         | \u001b[32m  41  \u001b[39m\u001b[36m   41\u001b[39m\n",
      "\u001b[37m\u001b[1mTest Summary: | \u001b[22m\u001b[39m\u001b[32m\u001b[1mPass  \u001b[22m\u001b[39m\u001b[36m\u001b[1mTotal\u001b[22m\u001b[39m\n",
      "initial state | \u001b[32m  13  \u001b[39m\u001b[36m   13\u001b[39m\n",
      "\u001b[37m\u001b[1mTest Summary: | \u001b[22m\u001b[39m\u001b[32m\u001b[1mPass  \u001b[22m\u001b[39m\u001b[36m\u001b[1mTotal\u001b[22m\u001b[39m\n",
      "memory kernel | \u001b[32m  51  \u001b[39m\u001b[36m   51\u001b[39m\n",
      "\u001b[37mrate_constant: \u001b[39m\u001b[91m\u001b[1mTest Failed\u001b[22m\u001b[39m at \u001b[39m\u001b[1mc:\\Users\\daniel.herman\\Documents\\Mgr\\OpenQuantumSystems\\OpenQuantumSystems.jl\\test\\test_rate_constant.jl:56\u001b[22m\n",
      "  Expression: D(ref, K_ab_) < 1.0e-10\n",
      "   Evaluated: 47.69590574426769 < 1.0e-10\n",
      "Stacktrace:\n",
      " [1] \u001b[0m\u001b[1mmacro expansion\u001b[22m\n",
      "\u001b[90m   @ \u001b[39m\u001b[90mc:\\Users\\daniel.herman\\Documents\\Mgr\\OpenQuantumSystems\\OpenQuantumSystems.jl\\test\\\u001b[39m\u001b[90;4mtest_rate_constant.jl:56\u001b[0m\u001b[90m [inlined]\u001b[39m\n",
      " [2] \u001b[0m\u001b[1mmacro expansion\u001b[22m\n",
      "\u001b[90m   @ \u001b[39m\u001b[90mC:\\buildbot\\worker\\package_win64\\build\\usr\\share\\julia\\stdlib\\v1.6\\Test\\src\\\u001b[39m\u001b[90;4mTest.jl:1151\u001b[0m\u001b[90m [inlined]\u001b[39m\n",
      " [3] top-level scope\n",
      "\u001b[90m   @ \u001b[39m\u001b[90mc:\\Users\\daniel.herman\\Documents\\Mgr\\OpenQuantumSystems\\OpenQuantumSystems.jl\\test\\\u001b[39m\u001b[90;4mtest_rate_constant.jl:7\u001b[0m\n",
      "\u001b[37mrate_constant: \u001b[39m\u001b[91m\u001b[1mTest Failed\u001b[22m\u001b[39m at \u001b[39m\u001b[1mc:\\Users\\daniel.herman\\Documents\\Mgr\\OpenQuantumSystems\\OpenQuantumSystems.jl\\test\\test_rate_constant.jl:59\u001b[22m\n",
      "  Expression: D(ref, K_ab_) < 1.0e-10\n",
      "   Evaluated: 47.69590574426769 < 1.0e-10\n",
      "Stacktrace:\n",
      " [1] \u001b[0m\u001b[1mmacro expansion\u001b[22m\n",
      "\u001b[90m   @ \u001b[39m\u001b[90mc:\\Users\\daniel.herman\\Documents\\Mgr\\OpenQuantumSystems\\OpenQuantumSystems.jl\\test\\\u001b[39m\u001b[90;4mtest_rate_constant.jl:59\u001b[0m\u001b[90m [inlined]\u001b[39m\n",
      " [2] \u001b[0m\u001b[1mmacro expansion\u001b[22m\n",
      "\u001b[90m   @ \u001b[39m\u001b[90mC:\\buildbot\\worker\\package_win64\\build\\usr\\share\\julia\\stdlib\\v1.6\\Test\\src\\\u001b[39m\u001b[90;4mTest.jl:1151\u001b[0m\u001b[90m [inlined]\u001b[39m\n",
      " [3] top-level scope\n",
      "\u001b[90m   @ \u001b[39m\u001b[90mc:\\Users\\daniel.herman\\Documents\\Mgr\\OpenQuantumSystems\\OpenQuantumSystems.jl\\test\\\u001b[39m\u001b[90;4mtest_rate_constant.jl:7\u001b[0m\n",
      "\u001b[37m\u001b[1mTest Summary: | \u001b[22m\u001b[39m\u001b[91m\u001b[1mFail  \u001b[22m\u001b[39m\u001b[36m\u001b[1mTotal\u001b[22m\u001b[39m\n",
      "rate_constant | \u001b[91m   2  \u001b[39m\u001b[36m    2\u001b[39m\n"
     ]
    },
    {
     "ename": "LoadError",
     "evalue": "LoadError: \u001b[91mSome tests did not pass: 0 passed, 2 failed, 0 errored, 0 broken.\u001b[39m\nin expression starting at c:\\Users\\daniel.herman\\Documents\\Mgr\\OpenQuantumSystems\\OpenQuantumSystems.jl\\test\\test_rate_constant.jl:5",
     "output_type": "error",
     "traceback": [
      "LoadError: \u001b[91mSome tests did not pass: 0 passed, 2 failed, 0 errored, 0 broken.\u001b[39m\nin expression starting at c:\\Users\\daniel.herman\\Documents\\Mgr\\OpenQuantumSystems\\OpenQuantumSystems.jl\\test\\test_rate_constant.jl:5",
      "",
      "Stacktrace:",
      " [1] finish(ts::Test.DefaultTestSet)",
      "   @ Test C:\\buildbot\\worker\\package_win64\\build\\usr\\share\\julia\\stdlib\\v1.6\\Test\\src\\Test.jl:913",
      " [2] macro expansion",
      "   @ C:\\buildbot\\worker\\package_win64\\build\\usr\\share\\julia\\stdlib\\v1.6\\Test\\src\\Test.jl:1161 [inlined]",
      " [3] top-level scope",
      "   @ c:\\Users\\daniel.herman\\Documents\\Mgr\\OpenQuantumSystems\\OpenQuantumSystems.jl\\test\\test_rate_constant.jl:7",
      " [4] include(fname::String)",
      "   @ Base.MainInclude .\\client.jl:444",
      " [5] top-level scope",
      "   @ .\\In[18]:26",
      " [6] eval",
      "   @ .\\boot.jl:360 [inlined]",
      " [7] include_string(mapexpr::typeof(REPL.softscope), mod::Module, code::String, filename::String)",
      "   @ Base .\\loading.jl:1116"
     ]
    }
   ],
   "source": [
    "names = [\n",
    "    \"test_operators_dense.jl\",\n",
    "    \"test_superoperators.jl\",\n",
    "    \"test_metrics.jl\",\n",
    "    \"test_molecules.jl\",\n",
    "    \"test_aggregateCore.jl\",\n",
    "    \"test_aggregateTools.jl\",\n",
    "    \"test_aggregateOperators.jl\",\n",
    "    \"test_aggregate.jl\",\n",
    "    \"test_evolution.jl\",\n",
    "    \"test_schroedinger.jl\",\n",
    "    \"test_liouville.jl\",\n",
    "    \"test_interaction_picture.jl\",\n",
    "    \"test_master_exact.jl\",\n",
    "    \"test_trace.jl\",\n",
    "    \"test_initial_state.jl\",\n",
    "    \"test_memory_kernel.jl\",\n",
    "    \"test_rate_constant.jl\",\n",
    "    \"test_master_ansatz.jl\",\n",
    "    \"test_master_iterative.jl\",\n",
    "    \"test_postprocessing.jl\",\n",
    "    \"test_scoring.jl\"\n",
    "]\n",
    "\n",
    "for name in names\n",
    "    include(name)\n",
    "end"
   ]
  },
  {
   "cell_type": "code",
   "execution_count": 25,
   "metadata": {},
   "outputs": [
    {
     "name": "stdout",
     "output_type": "stream",
     "text": [
      "\u001b[37m\u001b[1mTest Summary:  | \u001b[22m\u001b[39m\u001b[32m\u001b[1mPass  \u001b[22m\u001b[39m\u001b[36m\u001b[1mTotal\u001b[22m\u001b[39m\n",
      "postprocessing | \u001b[32m   8  \u001b[39m\u001b[36m    8\u001b[39m\n",
      "\u001b[37m\u001b[1mTest Summary: | \u001b[22m\u001b[39m\u001b[32m\u001b[1mPass  \u001b[22m\u001b[39m\u001b[36m\u001b[1mTotal\u001b[22m\u001b[39m\n",
      "scoring       | \u001b[32m  12  \u001b[39m\u001b[36m   12\u001b[39m\n"
     ]
    }
   ],
   "source": [
    "names = [\n",
    "    \"test_postprocessing.jl\",\n",
    "    \"test_scoring.jl\"\n",
    "]\n",
    "\n",
    "for name in names\n",
    "    include(name)\n",
    "end"
   ]
  },
  {
   "cell_type": "code",
   "execution_count": null,
   "metadata": {},
   "outputs": [],
   "source": []
  }
 ],
 "metadata": {
  "kernelspec": {
   "display_name": "Julia 1.6.3",
   "language": "julia",
   "name": "julia-1.6"
  },
  "language_info": {
   "file_extension": ".jl",
   "mimetype": "application/julia",
   "name": "julia",
   "version": "1.6.3"
  },
  "orig_nbformat": 4
 },
 "nbformat": 4,
 "nbformat_minor": 2
}
