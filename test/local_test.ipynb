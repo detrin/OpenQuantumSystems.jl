{
 "cells": [
  {
   "cell_type": "code",
   "execution_count": 4,
   "metadata": {},
   "outputs": [],
   "source": [
    "using Revise\n",
    "using LinearAlgebra\n",
    "using SparseArrays\n",
    "using Pkg\n",
    "using DelayDiffEq \n",
    "using Plots\n",
    "using BenchmarkTools\n",
    "using LaTeXStrings"
   ]
  },
  {
   "cell_type": "code",
   "execution_count": 5,
   "metadata": {},
   "outputs": [],
   "source": [
    "using OpenQuantumSystems"
   ]
  },
  {
   "cell_type": "code",
   "execution_count": 6,
   "metadata": {},
   "outputs": [
    {
     "name": "stdout",
     "output_type": "stream",
     "text": [
      "\u001b[37m\u001b[1mTest Summary: |\u001b[22m\u001b[39m\n",
      "master ansatz | \u001b[36mNo tests\u001b[39m\n"
     ]
    },
    {
     "data": {
      "text/plain": [
       "Test.DefaultTestSet(\"master ansatz\", Any[], 0, false, false)"
      ]
     },
     "execution_count": 6,
     "metadata": {},
     "output_type": "execute_result"
    }
   ],
   "source": [
    "include(\"test_master_ansatz.jl\")"
   ]
  },
  {
   "cell_type": "code",
   "execution_count": 4,
   "metadata": {},
   "outputs": [
    {
     "name": "stdout",
     "output_type": "stream",
     "text": [
      "\u001b[37m\u001b[1mTest Summary:   | \u001b[22m\u001b[39m\u001b[32m\u001b[1mPass  \u001b[22m\u001b[39m\u001b[36m\u001b[1mTotal\u001b[22m\u001b[39m\n",
      "operators dense | \u001b[32m   6  \u001b[39m\u001b[36m    6\u001b[39m\n",
      "\u001b[37m\u001b[1mTest Summary:  | \u001b[22m\u001b[39m\u001b[32m\u001b[1mPass  \u001b[22m\u001b[39m\u001b[36m\u001b[1mTotal\u001b[22m\u001b[39m\n",
      "superoperators | \u001b[32m   2  \u001b[39m\u001b[36m    2\u001b[39m\n",
      "\u001b[37m\u001b[1mTest Summary: | \u001b[22m\u001b[39m\u001b[32m\u001b[1mPass  \u001b[22m\u001b[39m\u001b[36m\u001b[1mTotal\u001b[22m\u001b[39m\n",
      "metrics       | \u001b[32m  19  \u001b[39m\u001b[36m   19\u001b[39m\n",
      "\u001b[37m\u001b[1mTest Summary: | \u001b[22m\u001b[39m\u001b[32m\u001b[1mPass  \u001b[22m\u001b[39m\u001b[36m\u001b[1mTotal\u001b[22m\u001b[39m\n",
      "molecules     | \u001b[32m  20  \u001b[39m\u001b[36m   20\u001b[39m\n",
      "\u001b[37m\u001b[1mTest Summary: | \u001b[22m\u001b[39m\u001b[32m\u001b[1mPass  \u001b[22m\u001b[39m\u001b[36m\u001b[1mTotal\u001b[22m\u001b[39m\n",
      "aggregateCore | \u001b[32m  15  \u001b[39m\u001b[36m   15\u001b[39m\n",
      "\u001b[37m\u001b[1mTest Summary:  | \u001b[22m\u001b[39m\u001b[32m\u001b[1mPass  \u001b[22m\u001b[39m\u001b[36m\u001b[1mTotal\u001b[22m\u001b[39m\n",
      "aggregateTools | \u001b[32m  13  \u001b[39m\u001b[36m   13\u001b[39m\n",
      "\u001b[37m\u001b[1mTest Summary:      | \u001b[22m\u001b[39m\u001b[32m\u001b[1mPass  \u001b[22m\u001b[39m\u001b[36m\u001b[1mTotal\u001b[22m\u001b[39m\n",
      "aggregateOperators | \u001b[32m  15  \u001b[39m\u001b[36m   15\u001b[39m\n",
      "\u001b[37m\u001b[1mTest Summary: | \u001b[22m\u001b[39m\u001b[32m\u001b[1mPass  \u001b[22m\u001b[39m\u001b[36m\u001b[1mTotal\u001b[22m\u001b[39m\n",
      "aggregate     | \u001b[32m   7  \u001b[39m\u001b[36m    7\u001b[39m\n",
      "Operator(dim=3x3)\n",
      "  basis: Basis(dim=3)\n",
      " 0.0+0.0im  0.0+0.0im       0.0+0.0im\n",
      " 0.0+0.0im  0.0+0.0im       0.0+0.0im\n",
      " 0.0+0.0im  0.0+0.0im  0.406006+0.0im\n",
      "\u001b[37mevolution: \u001b[39m\u001b[91m\u001b[1mError During Test\u001b[22m\u001b[39m at \u001b[39m\u001b[1mc:\\Users\\daniel.herman\\Documents\\Mgr\\OpenQuantumSystems\\OpenQuantumSystems.jl\\test\\test_evolution.jl:5\u001b[22m\n",
      "  Got exception outside of a @test\n",
      "  ArgumentError: indexed assignment with a single value to many locations is not supported; perhaps use broadcasting `.=` instead?\n",
      "  Stacktrace:\n",
      "    [1] \u001b[0m\u001b[1msetindex_shape_check\u001b[22m\u001b[0m\u001b[1m(\u001b[22m::\u001b[0mOperator\u001b[90m{GenericBasis{Vector{Int64}}, GenericBasis{Vector{Int64}}, Matrix{ComplexF64}}\u001b[39m, ::\u001b[0mInt64, ::\u001b[0mInt64, ::\u001b[0mInt64\u001b[0m\u001b[1m)\u001b[22m\n",
      "  \u001b[90m    @ \u001b[39m\u001b[90mBase\u001b[39m \u001b[90m.\\\u001b[39m\u001b[90;4mindices.jl:261\u001b[0m\n",
      "    [2] \u001b[0m\u001b[1mmacro expansion\u001b[22m\n",
      "  \u001b[90m    @ \u001b[39m\u001b[90m.\\\u001b[39m\u001b[90;4mmultidimensional.jl:896\u001b[0m\u001b[90m [inlined]\u001b[39m\n",
      "    [3] \u001b[0m\u001b[1m_unsafe_setindex!\u001b[22m\u001b[0m\u001b[1m(\u001b[22m::\u001b[0mIndexLinear, ::\u001b[0mArray\u001b[90m{ComplexF64, 3}\u001b[39m, ::\u001b[0mOperator\u001b[90m{GenericBasis{Vector{Int64}}, GenericBasis{Vector{Int64}}, Matrix{ComplexF64}}\u001b[39m, ::\u001b[0mInt64, ::\u001b[0mBase.Slice\u001b[90m{Base.OneTo{Int64}}\u001b[39m, ::\u001b[0mBase.Slice\u001b[90m{Base.OneTo{Int64}}\u001b[39m\u001b[0m\u001b[1m)\u001b[22m\n",
      "  \u001b[90m    @ \u001b[39m\u001b[90mBase\u001b[39m \u001b[90m.\\\u001b[39m\u001b[90;4mmultidimensional.jl:910\u001b[0m\n",
      "    [4] \u001b[0m\u001b[1m_setindex!\u001b[22m\n",
      "  \u001b[90m    @ \u001b[39m\u001b[90m.\\\u001b[39m\u001b[90;4mmultidimensional.jl:887\u001b[0m\u001b[90m [inlined]\u001b[39m\n",
      "    [5] \u001b[0m\u001b[1msetindex!\u001b[22m\n",
      "  \u001b[90m    @ \u001b[39m\u001b[90m.\\\u001b[39m\u001b[90;4mabstractarray.jl:1267\u001b[0m\u001b[90m [inlined]\u001b[39m\n",
      "    [6] \u001b[0m\u001b[1mEvolution_sI_exact\u001b[22m\u001b[0m\u001b[1m(\u001b[22m\u001b[90mW0\u001b[39m::\u001b[0mOperator\u001b[90m{GenericBasis{Vector{Int64}}, GenericBasis{Vector{Int64}}, Matrix{ComplexF64}}\u001b[39m, \u001b[90mtspan\u001b[39m::\u001b[0mVector\u001b[90m{Float64}\u001b[39m, \u001b[90magg\u001b[39m::\u001b[0mAggregate\u001b[0m\u001b[1m)\u001b[22m\n",
      "  \u001b[90m    @ \u001b[39m\u001b[35mOpenQuantumSystems\u001b[39m \u001b[90mc:\\Users\\daniel.herman\\Documents\\Mgr\\OpenQuantumSystems\\OpenQuantumSystems.jl\\src\\\u001b[39m\u001b[90;4mevolution.jl:674\u001b[0m\n",
      "    [7] \u001b[0m\u001b[1mmacro expansion\u001b[22m\n",
      "  \u001b[90m    @ \u001b[39m\u001b[90mc:\\Users\\daniel.herman\\Documents\\Mgr\\OpenQuantumSystems\\OpenQuantumSystems.jl\\test\\\u001b[39m\u001b[90;4mtest_evolution.jl:261\u001b[0m\u001b[90m [inlined]\u001b[39m\n",
      "    [8] \u001b[0m\u001b[1mmacro expansion\u001b[22m\n",
      "  \u001b[90m    @ \u001b[39m\u001b[90mC:\\buildbot\\worker\\package_win64\\build\\usr\\share\\julia\\stdlib\\v1.6\\Test\\src\\\u001b[39m\u001b[90;4mTest.jl:1151\u001b[0m\u001b[90m [inlined]\u001b[39m\n",
      "    [9] top-level scope\n",
      "  \u001b[90m    @ \u001b[39m\u001b[90mc:\\Users\\daniel.herman\\Documents\\Mgr\\OpenQuantumSystems\\OpenQuantumSystems.jl\\test\\\u001b[39m\u001b[90;4mtest_evolution.jl:7\u001b[0m\n",
      "   [10] \u001b[0m\u001b[1minclude\u001b[22m\u001b[0m\u001b[1m(\u001b[22m\u001b[90mfname\u001b[39m::\u001b[0mString\u001b[0m\u001b[1m)\u001b[22m\n",
      "  \u001b[90m    @ \u001b[39m\u001b[90mBase.MainInclude\u001b[39m \u001b[90m.\\\u001b[39m\u001b[90;4mclient.jl:444\u001b[0m\n",
      "   [11] top-level scope\n",
      "  \u001b[90m    @ \u001b[39m\u001b[90m.\\\u001b[39m\u001b[90;4mIn[4]:26\u001b[0m\n",
      "   [12] \u001b[0m\u001b[1meval\u001b[22m\n",
      "  \u001b[90m    @ \u001b[39m\u001b[90m.\\\u001b[39m\u001b[90;4mboot.jl:360\u001b[0m\u001b[90m [inlined]\u001b[39m\n",
      "   [13] \u001b[0m\u001b[1minclude_string\u001b[22m\u001b[0m\u001b[1m(\u001b[22m\u001b[90mmapexpr\u001b[39m::\u001b[0mtypeof(REPL.softscope), \u001b[90mmod\u001b[39m::\u001b[0mModule, \u001b[90mcode\u001b[39m::\u001b[0mString, \u001b[90mfilename\u001b[39m::\u001b[0mString\u001b[0m\u001b[1m)\u001b[22m\n",
      "  \u001b[90m    @ \u001b[39m\u001b[90mBase\u001b[39m \u001b[90m.\\\u001b[39m\u001b[90;4mloading.jl:1116\u001b[0m\n",
      "   [14] \u001b[0m\u001b[1msoftscope_include_string\u001b[22m\u001b[0m\u001b[1m(\u001b[22m\u001b[90mm\u001b[39m::\u001b[0mModule, \u001b[90mcode\u001b[39m::\u001b[0mString, \u001b[90mfilename\u001b[39m::\u001b[0mString\u001b[0m\u001b[1m)\u001b[22m\n",
      "  \u001b[90m    @ \u001b[39m\u001b[36mSoftGlobalScope\u001b[39m \u001b[90mC:\\Users\\daniel.herman\\.julia\\packages\\SoftGlobalScope\\u4UzH\\src\\\u001b[39m\u001b[90;4mSoftGlobalScope.jl:65\u001b[0m\n",
      "   [15] \u001b[0m\u001b[1mexecute_request\u001b[22m\u001b[0m\u001b[1m(\u001b[22m\u001b[90msocket\u001b[39m::\u001b[0mZMQ.Socket, \u001b[90mmsg\u001b[39m::\u001b[0mIJulia.Msg\u001b[0m\u001b[1m)\u001b[22m\n",
      "  \u001b[90m    @ \u001b[39m\u001b[32mIJulia\u001b[39m \u001b[90mC:\\Users\\daniel.herman\\.julia\\packages\\IJulia\\e8kqU\\src\\\u001b[39m\u001b[90;4mexecute_request.jl:67\u001b[0m\n",
      "   [16] \u001b[0m\u001b[1m#invokelatest#2\u001b[22m\n",
      "  \u001b[90m    @ \u001b[39m\u001b[90m.\\\u001b[39m\u001b[90;4messentials.jl:708\u001b[0m\u001b[90m [inlined]\u001b[39m\n",
      "   [17] \u001b[0m\u001b[1minvokelatest\u001b[22m\n",
      "  \u001b[90m    @ \u001b[39m\u001b[90m.\\\u001b[39m\u001b[90;4messentials.jl:706\u001b[0m\u001b[90m [inlined]\u001b[39m\n",
      "   [18] \u001b[0m\u001b[1meventloop\u001b[22m\u001b[0m\u001b[1m(\u001b[22m\u001b[90msocket\u001b[39m::\u001b[0mZMQ.Socket\u001b[0m\u001b[1m)\u001b[22m\n",
      "  \u001b[90m    @ \u001b[39m\u001b[32mIJulia\u001b[39m \u001b[90mC:\\Users\\daniel.herman\\.julia\\packages\\IJulia\\e8kqU\\src\\\u001b[39m\u001b[90;4meventloop.jl:8\u001b[0m\n",
      "   [19] \u001b[0m\u001b[1m(::IJulia.var\"#15#18\")\u001b[22m\u001b[0m\u001b[1m(\u001b[22m\u001b[0m\u001b[1m)\u001b[22m\n",
      "  \u001b[90m    @ \u001b[39m\u001b[32mIJulia\u001b[39m \u001b[90m.\\\u001b[39m\u001b[90;4mtask.jl:411\u001b[0m\n",
      "\u001b[37m\u001b[1mTest Summary: | \u001b[22m\u001b[39m\u001b[32m\u001b[1mPass  \u001b[22m\u001b[39m\u001b[91m\u001b[1mError  \u001b[22m\u001b[39m\u001b[36m\u001b[1mTotal\u001b[22m\u001b[39m\n",
      "evolution     | \u001b[32m 101  \u001b[39m\u001b[91m    1  \u001b[39m\u001b[36m  102\u001b[39m\n"
     ]
    },
    {
     "ename": "LoadError",
     "evalue": "LoadError: \u001b[91mSome tests did not pass: 101 passed, 0 failed, 1 errored, 0 broken.\u001b[39m\nin expression starting at c:\\Users\\daniel.herman\\Documents\\Mgr\\OpenQuantumSystems\\OpenQuantumSystems.jl\\test\\test_evolution.jl:5",
     "output_type": "error",
     "traceback": [
      "LoadError: \u001b[91mSome tests did not pass: 101 passed, 0 failed, 1 errored, 0 broken.\u001b[39m\nin expression starting at c:\\Users\\daniel.herman\\Documents\\Mgr\\OpenQuantumSystems\\OpenQuantumSystems.jl\\test\\test_evolution.jl:5",
      "",
      "Stacktrace:",
      " [1] finish(ts::Test.DefaultTestSet)",
      "   @ Test C:\\buildbot\\worker\\package_win64\\build\\usr\\share\\julia\\stdlib\\v1.6\\Test\\src\\Test.jl:913",
      " [2] macro expansion",
      "   @ C:\\buildbot\\worker\\package_win64\\build\\usr\\share\\julia\\stdlib\\v1.6\\Test\\src\\Test.jl:1161 [inlined]",
      " [3] top-level scope",
      "   @ c:\\Users\\daniel.herman\\Documents\\Mgr\\OpenQuantumSystems\\OpenQuantumSystems.jl\\test\\test_evolution.jl:7",
      " [4] include(fname::String)",
      "   @ Base.MainInclude .\\client.jl:444",
      " [5] top-level scope",
      "   @ .\\In[4]:26",
      " [6] eval",
      "   @ .\\boot.jl:360 [inlined]",
      " [7] include_string(mapexpr::typeof(REPL.softscope), mod::Module, code::String, filename::String)",
      "   @ Base .\\loading.jl:1116"
     ]
    }
   ],
   "source": [
    "names = [\n",
    "    \"test_operators_dense.jl\",\n",
    "    \"test_superoperators.jl\",\n",
    "    \"test_metrics.jl\",\n",
    "    \"test_molecules.jl\",\n",
    "    \"test_aggregateCore.jl\",\n",
    "    \"test_aggregateTools.jl\",\n",
    "    \"test_aggregateOperators.jl\",\n",
    "    \"test_aggregate.jl\",\n",
    "    \"test_evolution.jl\",\n",
    "    \"test_schroedinger.jl\",\n",
    "    \"test_liouville.jl\",\n",
    "    \"test_interaction_picture.jl\",\n",
    "    \"test_master_exact.jl\",\n",
    "    \"test_trace.jl\",\n",
    "    \"test_initial_state.jl\",\n",
    "    \"test_memory_kernel.jl\",\n",
    "    \"test_rate_constant.jl\",\n",
    "    \"test_master_ansatz.jl\",\n",
    "    \"test_master_iterative.jl\",\n",
    "    \"test_postprocessing.jl\",\n",
    "    \"test_scoring.jl\"\n",
    "]\n",
    "\n",
    "for name in names\n",
    "    include(name)\n",
    "end"
   ]
  },
  {
   "cell_type": "code",
   "execution_count": 7,
   "metadata": {},
   "outputs": [],
   "source": [
    "names = [\n",
    "    \"test_master_iterative.jl\",\n",
    "    \"test_postprocessing.jl\",\n",
    "    \"test_scoring.jl\"\n",
    "]\n",
    "\n",
    "for name in names\n",
    "    include(name)\n",
    "end"
   ]
  },
  {
   "cell_type": "code",
   "execution_count": null,
   "metadata": {},
   "outputs": [],
   "source": []
  }
 ],
 "metadata": {
  "kernelspec": {
   "display_name": "Julia 1.6.3",
   "language": "julia",
   "name": "julia-1.6"
  },
  "language_info": {
   "file_extension": ".jl",
   "mimetype": "application/julia",
   "name": "julia",
   "version": "1.6.3"
  },
  "orig_nbformat": 4
 },
 "nbformat": 4,
 "nbformat_minor": 2
}
