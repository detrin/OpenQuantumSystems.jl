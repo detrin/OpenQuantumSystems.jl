{
 "cells": [
  {
   "cell_type": "code",
   "execution_count": 1,
   "metadata": {},
   "outputs": [],
   "source": [
    "using Revise\n",
    "using LinearAlgebra\n",
    "using SparseArrays\n",
    "using Pkg\n",
    "using DelayDiffEq \n",
    "using Plots\n",
    "using BenchmarkTools\n",
    "using LaTeXStrings"
   ]
  },
  {
   "cell_type": "code",
   "execution_count": 3,
   "metadata": {},
   "outputs": [
    {
     "name": "stderr",
     "output_type": "stream",
     "text": [
      "┌ Info: Precompiling OpenQuantumSystems [90e503ea-487f-4e8e-81fe-8dcc9db25ac5]\n",
      "└ @ Base loading.jl:1342\n",
      "WARNING: Method definition interpolate_with_tspan(Any, Any, Any) in module OpenQuantumSystems at c:\\Users\\daniel.herman\\Documents\\Mgr\\OpenQuantumSystems\\OpenQuantumSystems.jl\\src\\rate_constant.jl:2 overwritten at c:\\Users\\daniel.herman\\Documents\\Mgr\\OpenQuantumSystems\\OpenQuantumSystems.jl\\src\\master_iterative.jl:4.\n",
      "  ** incremental compilation may be fatally broken for this module **\n",
      "\n"
     ]
    }
   ],
   "source": [
    "using OpenQuantumSystems"
   ]
  },
  {
   "cell_type": "code",
   "execution_count": 4,
   "metadata": {},
   "outputs": [
    {
     "data": {
      "text/plain": [
       "27"
      ]
     },
     "execution_count": 4,
     "metadata": {},
     "output_type": "execute_result"
    }
   ],
   "source": [
    "D(op1::Array, op2::Array) = abs(norm(op1 - op2))\n",
    "D(x1::StateVector, x2::StateVector) = norm(x2 - x1)\n",
    "D(op1::AbstractOperator, op2::AbstractOperator) = abs(tracedistance_nh(dense(op1), dense(op2)))\n",
    "D(op1::AbstractSuperOperator, op2::AbstractSuperOperator) = abs(tracedistance_nh(dense(op1), dense(op2)))\n",
    "\n",
    "Nvib = 3\n",
    "mols = [\n",
    "        Molecule([Mode(omega=200., hr_factor=0.01)], Nvib, [0., 12500.]),\n",
    "    Molecule([Mode(omega=200., hr_factor=0.01)], Nvib, [0., 12700.])\n",
    "    ]\n",
    "\n",
    "aggCore = AggregateCore(mols)\n",
    "for mol_i in 2:aggCore.molCount\n",
    "    aggCore.coupling[mol_i, mol_i+1] = 10\n",
    "    aggCore.coupling[mol_i+1, mol_i] = 10\n",
    "end\n",
    "agg = setupAggregate(aggCore; groundEnergy = true, vib_basis = :ground_excited)\n",
    "agg.tools.bSize"
   ]
  },
  {
   "cell_type": "code",
   "execution_count": 11,
   "metadata": {},
   "outputs": [
    {
     "data": {
      "text/plain": [
       "0.5308837458876146"
      ]
     },
     "execution_count": 11,
     "metadata": {},
     "output_type": "execute_result"
    }
   ],
   "source": [
    "tspan = get_tspan(0., 0.0001, 10)\n",
    "tspan_fs = tspan_cm_to_fs(tspan)\n",
    "W0, rho0, W0_bath = ultrafast_laser_excitation(10., [0., 0.7, 0.3], agg)\n",
    "elLen = aggCore.molCount+1\n",
    "tspan_fs[end]"
   ]
  },
  {
   "cell_type": "code",
   "execution_count": 12,
   "metadata": {},
   "outputs": [
    {
     "data": {
      "text/plain": [
       "1.0e-6"
      ]
     },
     "execution_count": 12,
     "metadata": {},
     "output_type": "execute_result"
    }
   ],
   "source": [
    "maxtol = 1e-6"
   ]
  },
  {
   "cell_type": "code",
   "execution_count": 13,
   "metadata": {},
   "outputs": [
    {
     "name": "stdout",
     "output_type": "stream",
     "text": [
      "  0.050212 seconds (41.04 k allocations: 8.185 MiB, 43.36% gc time)\n",
      "\n"
     ]
    }
   ],
   "source": [
    "@time _, rho_int_t_ = Evolution_sI_exact(W0, tspan, agg)\n",
    "println(\"\")"
   ]
  },
  {
   "cell_type": "code",
   "execution_count": 14,
   "metadata": {},
   "outputs": [
    {
     "name": "stdout",
     "output_type": "stream",
     "text": [
      "  0.400235 seconds (1.94 M allocations: 161.778 MiB, 4.69% gc time)\n",
      "\n"
     ]
    }
   ],
   "source": [
    "@time _, rho_0_int_t_ = QME_sI_ansatz_const_int(\n",
    "    W0,\n",
    "    tspan,\n",
    "    agg;\n",
    "    reltol=maxtol,\n",
    "    abstol=maxtol,\n",
    "    int_reltol=maxtol,\n",
    "    int_abstol=maxtol,\n",
    "    alg = DelayDiffEq.MethodOfSteps(DelayDiffEq.Tsit5()),\n",
    ")\n",
    "println(\"\")"
   ]
  },
  {
   "cell_type": "code",
   "execution_count": 15,
   "metadata": {},
   "outputs": [],
   "source": [
    "W_0_bath_t = []\n",
    "for i=1:length(tspan)\n",
    "    push!(W_0_bath_t, W0_bath.data)\n",
    "end"
   ]
  },
  {
   "cell_type": "code",
   "execution_count": 21,
   "metadata": {},
   "outputs": [
    {
     "name": "stdout",
     "output_type": "stream",
     "text": [
      "  6.894252 seconds (45.45 M allocations: 2.624 GiB, 6.26% gc time)\n",
      "  6.272083 seconds (45.45 M allocations: 2.624 GiB, 6.38% gc time)\n",
      "  7.042361 seconds (45.51 M allocations: 2.693 GiB, 5.92% gc time)\n",
      "  6.902728 seconds (45.51 M allocations: 2.693 GiB, 5.84% gc time)\n",
      "  6.239244 seconds (45.48 M allocations: 2.659 GiB, 6.21% gc time)\n",
      "  6.356759 seconds (45.48 M allocations: 2.659 GiB, 5.98% gc time)\n",
      "\n"
     ]
    }
   ],
   "source": [
    "for be in [:none, :interaction_picture, :shroedinger_picture]\n",
    "    for ba in [:population, :population_coherences]\n",
    "        @time _, rho_1_int_t_, W_1_bath_t = QME_sI_iterative(\n",
    "            W0,\n",
    "            rho_0_int_t_,\n",
    "            W_0_bath_t,\n",
    "            tspan,\n",
    "            agg;\n",
    "            bath_evolution=be, \n",
    "            bath_ansatz=ba, \n",
    "            normalize=false,\n",
    "            reltol = maxtol,\n",
    "            abstol = maxtol,\n",
    "            int_reltol = maxtol,\n",
    "            int_abstol = maxtol,\n",
    "            W_1_rtol = maxtol,\n",
    "            W_1_atol = maxtol,\n",
    "            K_rtol = maxtol,\n",
    "            K_atol = maxtol,\n",
    "            alg = DelayDiffEq.MethodOfSteps(DelayDiffEq.Tsit5()),\n",
    "        )\n",
    "    end\n",
    "end\n",
    "println(\"\")"
   ]
  },
  {
   "cell_type": "code",
   "execution_count": 22,
   "metadata": {},
   "outputs": [
    {
     "name": "stdout",
     "output_type": "stream",
     "text": [
      "  5.701188 seconds (45.45 M allocations: 2.624 GiB, 6.88% gc time)\n",
      "  5.702467 seconds (45.50 M allocations: 2.625 GiB, 6.83% gc time)\n",
      "\n"
     ]
    }
   ],
   "source": [
    "for normalize in [false, true]\n",
    "    @time _, rho_1_int_t_, W_1_bath_t = QME_sI_iterative(\n",
    "        W0,\n",
    "        rho_0_int_t_,\n",
    "        W_0_bath_t,\n",
    "        tspan,\n",
    "        agg;\n",
    "        bath_evolution=:none, \n",
    "        bath_ansatz=:population, \n",
    "        normalize=normalize,\n",
    "        reltol = maxtol,\n",
    "        abstol = maxtol,\n",
    "        int_reltol = maxtol,\n",
    "        int_abstol = maxtol,\n",
    "        W_1_rtol = maxtol,\n",
    "        W_1_atol = maxtol,\n",
    "        K_rtol = maxtol,\n",
    "        K_atol = maxtol,\n",
    "        alg = DelayDiffEq.MethodOfSteps(DelayDiffEq.Tsit5()),\n",
    "    )\n",
    "end\n",
    "println(\"\")"
   ]
  },
  {
   "cell_type": "code",
   "execution_count": null,
   "metadata": {},
   "outputs": [],
   "source": []
  }
 ],
 "metadata": {
  "kernelspec": {
   "display_name": "Julia 1.6.3",
   "language": "julia",
   "name": "julia-1.6"
  },
  "language_info": {
   "file_extension": ".jl",
   "mimetype": "application/julia",
   "name": "julia",
   "version": "1.6.3"
  },
  "orig_nbformat": 4
 },
 "nbformat": 4,
 "nbformat_minor": 2
}
