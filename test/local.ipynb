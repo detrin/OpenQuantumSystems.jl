{
 "cells": [
  {
   "cell_type": "code",
   "execution_count": 2,
   "metadata": {},
   "outputs": [],
   "source": [
    "using Revise\n",
    "using LinearAlgebra\n",
    "using SparseArrays\n",
    "using Pkg"
   ]
  },
  {
   "cell_type": "code",
   "execution_count": 64,
   "metadata": {},
   "outputs": [],
   "source": [
    "using OpenQuantumSystems"
   ]
  },
  {
   "cell_type": "code",
   "execution_count": 4,
   "metadata": {},
   "outputs": [
    {
     "name": "stdout",
     "output_type": "stream",
     "text": [
      "\n"
     ]
    }
   ],
   "source": [
    "mode1 = Mode(0.2, 1.0)\n",
    "mode2 = Mode(0.3, 2.0)\n",
    "Energy = [0.0, 200.0]\n",
    "mol1 = Molecule([mode1], 3, [2.0, 200.0])\n",
    "mol2 = Molecule([mode2], 3, [3.0, 300.0])\n",
    "aggCore = AggregateCore([mol1, mol2])\n",
    "aggCore.coupling[2, 3] = 50\n",
    "aggCore.coupling[3, 2] = 50\n",
    "agg = setupAggregate(aggCore)\n",
    "println(\"\")"
   ]
  },
  {
   "cell_type": "code",
   "execution_count": 80,
   "metadata": {},
   "outputs": [
    {
     "name": "stdout",
     "output_type": "stream",
     "text": [
      "\u001b[37m\u001b[1mTest Summary: | \u001b[22m\u001b[39m\u001b[32m\u001b[1mPass  \u001b[22m\u001b[39m\u001b[36m\u001b[1mTotal\u001b[22m\u001b[39m\n",
      "trace         | \u001b[32m  41  \u001b[39m\u001b[36m   41\u001b[39m\n"
     ]
    },
    {
     "data": {
      "text/plain": [
       "Test.DefaultTestSet(\"trace\", Any[], 41, false, false)"
      ]
     },
     "execution_count": 80,
     "metadata": {},
     "output_type": "execute_result"
    }
   ],
   "source": [
    "using OpenQuantumSystems\n",
    "include(\"test_trace.jl\")"
   ]
  },
  {
   "cell_type": "code",
   "execution_count": 81,
   "metadata": {},
   "outputs": [
    {
     "name": "stdout",
     "output_type": "stream",
     "text": [
      "\u001b[37m\u001b[1mTest Summary:   | \u001b[22m\u001b[39m\u001b[32m\u001b[1mPass  \u001b[22m\u001b[39m\u001b[36m\u001b[1mTotal\u001b[22m\u001b[39m\n",
      "operators dense | \u001b[32m   6  \u001b[39m\u001b[36m    6\u001b[39m\n",
      "\u001b[37m\u001b[1mTest Summary:  | \u001b[22m\u001b[39m\u001b[32m\u001b[1mPass  \u001b[22m\u001b[39m\u001b[36m\u001b[1mTotal\u001b[22m\u001b[39m\n",
      "superoperators | \u001b[32m   2  \u001b[39m\u001b[36m    2\u001b[39m\n",
      "\u001b[37m\u001b[1mTest Summary: | \u001b[22m\u001b[39m\u001b[32m\u001b[1mPass  \u001b[22m\u001b[39m\u001b[36m\u001b[1mTotal\u001b[22m\u001b[39m\n",
      "metrics       | \u001b[32m  19  \u001b[39m\u001b[36m   19\u001b[39m\n",
      "\u001b[37m\u001b[1mTest Summary: | \u001b[22m\u001b[39m\u001b[32m\u001b[1mPass  \u001b[22m\u001b[39m\u001b[36m\u001b[1mTotal\u001b[22m\u001b[39m\n",
      "molecules     | \u001b[32m  20  \u001b[39m\u001b[36m   20\u001b[39m\n",
      "\u001b[37m\u001b[1mTest Summary: | \u001b[22m\u001b[39m\u001b[32m\u001b[1mPass  \u001b[22m\u001b[39m\u001b[36m\u001b[1mTotal\u001b[22m\u001b[39m\n",
      "aggregateCore | \u001b[32m  14  \u001b[39m\u001b[36m   14\u001b[39m\n",
      "\u001b[37m\u001b[1mTest Summary:  | \u001b[22m\u001b[39m\u001b[32m\u001b[1mPass  \u001b[22m\u001b[39m\u001b[36m\u001b[1mTotal\u001b[22m\u001b[39m\n",
      "aggregateTools | \u001b[32m  12  \u001b[39m\u001b[36m   12\u001b[39m\n",
      "\u001b[37m\u001b[1mTest Summary:      | \u001b[22m\u001b[39m\u001b[32m\u001b[1mPass  \u001b[22m\u001b[39m\u001b[36m\u001b[1mTotal\u001b[22m\u001b[39m\n",
      "aggregateOperators | \u001b[32m   7  \u001b[39m\u001b[36m    7\u001b[39m\n",
      "\u001b[37m\u001b[1mTest Summary: | \u001b[22m\u001b[39m\u001b[32m\u001b[1mPass  \u001b[22m\u001b[39m\u001b[36m\u001b[1mTotal\u001b[22m\u001b[39m\n",
      "aggregate     | \u001b[32m   3  \u001b[39m\u001b[36m    3\u001b[39m\n",
      "\u001b[37m\u001b[1mTest Summary: | \u001b[22m\u001b[39m\u001b[32m\u001b[1mPass  \u001b[22m\u001b[39m\u001b[36m\u001b[1mTotal\u001b[22m\u001b[39m\n",
      "evolution     | \u001b[32m  54  \u001b[39m\u001b[36m   54\u001b[39m\n",
      "\u001b[37m\u001b[1mTest Summary: | \u001b[22m\u001b[39m\u001b[32m\u001b[1mPass  \u001b[22m\u001b[39m\u001b[36m\u001b[1mTotal\u001b[22m\u001b[39m\n",
      "schroedinger  | \u001b[32m  25  \u001b[39m\u001b[36m   25\u001b[39m\n",
      "\u001b[37m\u001b[1mTest Summary: | \u001b[22m\u001b[39m\u001b[32m\u001b[1mPass  \u001b[22m\u001b[39m\u001b[36m\u001b[1mTotal\u001b[22m\u001b[39m\n",
      "liouville     | \u001b[32m  11  \u001b[39m\u001b[36m   11\u001b[39m\n",
      "\u001b[37m\u001b[1mTest Summary:       | \u001b[22m\u001b[39m\u001b[32m\u001b[1mPass  \u001b[22m\u001b[39m\u001b[36m\u001b[1mTotal\u001b[22m\u001b[39m\n",
      "interaction picture | \u001b[32m   9  \u001b[39m\u001b[36m    9\u001b[39m\n",
      "\u001b[37m\u001b[1mTest Summary: | \u001b[22m\u001b[39m\u001b[32m\u001b[1mPass  \u001b[22m\u001b[39m\u001b[36m\u001b[1mTotal\u001b[22m\u001b[39m\n",
      "master        | \u001b[32m  20  \u001b[39m\u001b[36m   20\u001b[39m\n",
      "\u001b[37m\u001b[1mTest Summary: | \u001b[22m\u001b[39m\u001b[32m\u001b[1mPass  \u001b[22m\u001b[39m\u001b[36m\u001b[1mTotal\u001b[22m\u001b[39m\n",
      "trace         | \u001b[32m  41  \u001b[39m\u001b[36m   41\u001b[39m\n"
     ]
    }
   ],
   "source": [
    "names = [\n",
    "    \"test_operators_dense.jl\",\n",
    "    \"test_superoperators.jl\",\n",
    "    \"test_metrics.jl\",\n",
    "    \"test_molecules.jl\",\n",
    "    \"test_aggregateCore.jl\",\n",
    "    \"test_aggregateTools.jl\",\n",
    "    \"test_aggregateOperators.jl\",\n",
    "    \"test_aggregate.jl\",\n",
    "    \"test_evolution.jl\",\n",
    "    \"test_schroedinger.jl\",\n",
    "    \"test_liouville.jl\",\n",
    "    \"test_interaction_picture.jl\",\n",
    "    \"test_master.jl\",\n",
    "    \"test_trace.jl\",\n",
    "    # \"test_initial_state.jl\",\n",
    "    # \"test_memory_kernel.jl\",\n",
    "    # \"test_master_ansatz.jl\",\n",
    "]\n",
    "\n",
    "for name in names\n",
    "    include(name)\n",
    "end"
   ]
  },
  {
   "cell_type": "code",
   "execution_count": null,
   "metadata": {},
   "outputs": [],
   "source": []
  }
 ],
 "metadata": {
  "kernelspec": {
   "display_name": "Julia 1.6.3",
   "language": "julia",
   "name": "julia-1.6"
  },
  "language_info": {
   "file_extension": ".jl",
   "mimetype": "application/julia",
   "name": "julia",
   "version": "1.6.3"
  },
  "orig_nbformat": 4
 },
 "nbformat": 4,
 "nbformat_minor": 2
}
