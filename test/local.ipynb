{
 "cells": [
  {
   "cell_type": "code",
   "execution_count": 1,
   "metadata": {},
   "outputs": [],
   "source": [
    "using Revise\n",
    "using LinearAlgebra\n",
    "using SparseArrays\n",
    "using Pkg"
   ]
  },
  {
   "cell_type": "code",
   "execution_count": 13,
   "metadata": {},
   "outputs": [],
   "source": [
    "using OpenQuantumSystems"
   ]
  },
  {
   "cell_type": "code",
   "execution_count": 14,
   "metadata": {},
   "outputs": [
    {
     "name": "stdout",
     "output_type": "stream",
     "text": [
      "\n"
     ]
    }
   ],
   "source": [
    "mode1 = Mode(0.2, 1.0)\n",
    "mode2 = Mode(0.2, 1.0)\n",
    "Energy = [0.0, 200.0]\n",
    "mol1 = Molecule([mode1, mode2], 3, [2.0, 200.0])\n",
    "mol2 = Molecule([mode1], 3, [3.0, 300.0])\n",
    "aggCore = AggregateCore([mol1, mol2])\n",
    "agg = Aggregate(aggCore)\n",
    "agg.core.coupling[2, 3] = 50\n",
    "agg.core.coupling[3, 2] = 50\n",
    "agg.tools = AggregateTools(agg)\n",
    "println(\"\")"
   ]
  },
  {
   "cell_type": "code",
   "execution_count": 15,
   "metadata": {},
   "outputs": [
    {
     "name": "stdout",
     "output_type": "stream",
     "text": [
      "\n"
     ]
    }
   ],
   "source": [
    "agg.operators = AggregateOperators(agg.core, agg.tools)\n",
    "println(\"\")"
   ]
  },
  {
   "cell_type": "code",
   "execution_count": 12,
   "metadata": {},
   "outputs": [
    {
     "data": {
      "text/plain": [
       "Operator{GenericBasis{Vector{Int64}}, GenericBasis{Vector{Int64}}, Matrix{Float64}}"
      ]
     },
     "execution_count": 12,
     "metadata": {},
     "output_type": "execute_result"
    }
   ],
   "source": [
    "agg = setupAggregate(aggCore)"
   ]
  },
  {
   "cell_type": "code",
   "execution_count": 5,
   "metadata": {},
   "outputs": [
    {
     "data": {
      "text/plain": [
       "Vector{Vector{Int64}} (alias for Array{Array{Int64, 1}, 1})"
      ]
     },
     "execution_count": 5,
     "metadata": {},
     "output_type": "execute_result"
    }
   ],
   "source": [
    "typeof(indicesMap)"
   ]
  },
  {
   "cell_type": "code",
   "execution_count": 7,
   "metadata": {},
   "outputs": [
    {
     "data": {
      "text/plain": [
       "81-element Vector{Vector{Vector{T} where T}}:\n",
       " [[1, 1], [[1, 1], [1]]]\n",
       " [[1, 1], [[1, 1], [2]]]\n",
       " [[1, 1], [[1, 1], [3]]]\n",
       " [[1, 1], [[1, 2], [1]]]\n",
       " [[1, 1], [[1, 2], [2]]]\n",
       " [[1, 1], [[1, 2], [3]]]\n",
       " [[1, 1], [[1, 3], [1]]]\n",
       " [[1, 1], [[1, 3], [2]]]\n",
       " [[1, 1], [[1, 3], [3]]]\n",
       " [[1, 1], [[2, 1], [1]]]\n",
       " [[1, 1], [[2, 1], [2]]]\n",
       " [[1, 1], [[2, 1], [3]]]\n",
       " [[1, 1], [[2, 2], [1]]]\n",
       " ⋮\n",
       " [[1, 2], [[2, 3], [1]]]\n",
       " [[1, 2], [[2, 3], [2]]]\n",
       " [[1, 2], [[2, 3], [3]]]\n",
       " [[1, 2], [[3, 1], [1]]]\n",
       " [[1, 2], [[3, 1], [2]]]\n",
       " [[1, 2], [[3, 1], [3]]]\n",
       " [[1, 2], [[3, 2], [1]]]\n",
       " [[1, 2], [[3, 2], [2]]]\n",
       " [[1, 2], [[3, 2], [3]]]\n",
       " [[1, 2], [[3, 3], [1]]]\n",
       " [[1, 2], [[3, 3], [2]]]\n",
       " [[1, 2], [[3, 3], [3]]]"
      ]
     },
     "execution_count": 7,
     "metadata": {},
     "output_type": "execute_result"
    }
   ],
   "source": [
    "indicesMap"
   ]
  },
  {
   "cell_type": "code",
   "execution_count": null,
   "metadata": {},
   "outputs": [],
   "source": [
    "typeof(vibindices)"
   ]
  },
  {
   "cell_type": "code",
   "execution_count": 8,
   "metadata": {},
   "outputs": [
    {
     "data": {
      "text/plain": [
       "Matrix{T} where T<:Integer (alias for Array{T, 2} where T<:Integer)"
      ]
     },
     "execution_count": 8,
     "metadata": {},
     "output_type": "execute_result"
    }
   ],
   "source": [
    "FCfactors = getFranckCondonFactors(aggCore, agg.tools.indices)\n",
    "typeof(FCfactors) == OpenQuantumSystems.FCfactorsT"
   ]
  },
  {
   "cell_type": "code",
   "execution_count": 6,
   "metadata": {},
   "outputs": [
    {
     "name": "stdout",
     "output_type": "stream",
     "text": [
      "\u001b[37m\u001b[1mTest Summary: | \u001b[22m\u001b[39m\u001b[32m\u001b[1mPass  \u001b[22m\u001b[39m\u001b[36m\u001b[1mTotal\u001b[22m\u001b[39m\n",
      "molecules     | \u001b[32m  20  \u001b[39m\u001b[36m   20\u001b[39m\n"
     ]
    },
    {
     "data": {
      "text/plain": [
       "Test.DefaultTestSet(\"molecules\", Any[], 20, false, false)"
      ]
     },
     "execution_count": 6,
     "metadata": {},
     "output_type": "execute_result"
    }
   ],
   "source": [
    "include(\"test_molecules.jl\")"
   ]
  },
  {
   "cell_type": "code",
   "execution_count": 13,
   "metadata": {},
   "outputs": [
    {
     "name": "stderr",
     "output_type": "stream",
     "text": [
      "┌ Error: Failed to revise c:\\Users\\daniel.herman\\Documents\\Mgr\\OpenQuantumSystems\\OpenQuantumSystems.jl\\src\\aggregateTools.jl\n",
      "│   exception = Revise.ReviseEvalException(\"c:\\\\Users\\\\daniel.herman\\\\Documents\\\\Mgr\\\\OpenQuantumSystems\\\\OpenQuantumSystems.jl\\\\src\\\\aggregateTools.jl:4\", ErrorException(\"invalid redefinition of constant ElIndices\"), Any[(top-level scope at aggregateTools.jl:4, 1)])\n",
      "└ @ Revise C:\\Users\\daniel.herman\\.julia\\packages\\Revise\\3RMhb\\src\\packagedef.jl:714\n"
     ]
    },
    {
     "data": {
      "text/plain": [
       "Array{Vector{T}, 1} where T<:Integer"
      ]
     },
     "execution_count": 13,
     "metadata": {},
     "output_type": "execute_result"
    }
   ],
   "source": [
    "const IndicesMap = Vector{Vector{T}} where T <: Integer"
   ]
  },
  {
   "cell_type": "code",
   "execution_count": null,
   "metadata": {},
   "outputs": [],
   "source": []
  }
 ],
 "metadata": {
  "kernelspec": {
   "display_name": "Julia 1.6.3",
   "language": "julia",
   "name": "julia-1.6"
  },
  "language_info": {
   "file_extension": ".jl",
   "mimetype": "application/julia",
   "name": "julia",
   "version": "1.6.3"
  },
  "orig_nbformat": 4
 },
 "nbformat": 4,
 "nbformat_minor": 2
}
